{
  "nbformat": 4,
  "nbformat_minor": 0,
  "metadata": {
    "colab": {
      "provenance": []
    },
    "kernelspec": {
      "name": "python3",
      "display_name": "Python 3"
    },
    "language_info": {
      "name": "python"
    }
  },
  "cells": [
    {
      "cell_type": "markdown",
      "source": [],
      "metadata": {
        "id": "BmfgY4cHHcUC"
      }
    },
    {
      "cell_type": "markdown",
      "source": [
        "1. What is the difference between a function and a method in Python?\n",
        "\n",
        "  Function: A block of code defined using def, not tied to any object.\n",
        " Called like: function_name()\n",
        "\n",
        "  Method: A function defined inside a class, works on objects.\n",
        " Called like: object.method_name()\n",
        "\n",
        "2.  Explain the concept of function arguments and parameters in Python?\n",
        "\n",
        "  Parameters are the placeholders in the function definition.\n",
        "\n",
        "  Arguments are the actual values you pass to the function when calling it.\n",
        "\n",
        "3. What are the different ways to define and call a function in Python?\n",
        "\n",
        "  Standard Function\n",
        "\n",
        " Function with Default Arguments\n",
        "\n",
        " Function with Keyword Arguments\n",
        "\n",
        " Function with Variable-Length Positional Arguments (*args)\n",
        "\n",
        " Function with Variable-Length Keyword Arguments (**kwargs)\n",
        "\n",
        " Lambda Function\n",
        "\n",
        "4. What is the purpose of the `return` statement in a Python function?\n",
        "\n",
        "  The return statement in a Python function is used to:\n",
        "\n",
        " Send a result back to the caller of the function.\n",
        "\n",
        " Exit the function immediately when it's executed.\n",
        "\n",
        "🔹 Purpose:\n",
        " Returns a value from the function.\n",
        "\n",
        " Ends the function’s execution.\n",
        "\n",
        "5. What are iterators in Python and how do they differ from iterables?\n",
        "\n",
        "  🔹 Iterators vs Iterables in Python\n",
        " Iterable:\n",
        "    \n",
        "     An iterable is any object that can be looped over (used in a for loop).\n",
        "\n",
        "     It implements the __iter__() method.\n",
        "\n",
        "Examples: list, tuple, str, dict, set.\n",
        "\n",
        " Iterator :\n",
        "\n",
        "    An iterator is an object that remembers the state while iterating.\n",
        "\n",
        "    It implements both __iter__() and __next__() methods.\n",
        "\n",
        "    It gives the next item in a sequence when next() is called.\n",
        "\n",
        "6.  Explain the concept of generators in Python and how they are defined?\n",
        "\n",
        "  Special functions that use yield instead of return.\n",
        "\n",
        "  Return values one at a time (lazy evaluation).\n",
        "\n",
        "  Memory efficient and great for large or infinite data.\n",
        "\n",
        " Example:\n",
        "\n",
        "def count():\n",
        "\n",
        "    yield 1\n",
        "    yield 2\n",
        "Use with next() or in a loop.\n",
        "\n",
        "7. What are the advantages of using generators over regular functions?\n",
        "\n",
        " Memory Efficiency\n",
        "\n",
        " Lazy Evaluation\n",
        "\n",
        " Better Performance\n",
        "\n",
        " Simplified Iteration\n",
        "\n",
        "8. What is a lambda function in Python and when is it typically used?\n",
        "\n",
        "Lambda Function in Python:\n",
        "\n",
        "Definition: A small anonymous function defined with the lambda keyword.\n",
        "\n",
        "Syntax: lambda arguments: expression\n",
        "\n",
        "Returns: The result of the expression automatically (no return needed).\n",
        "\n",
        "When is it used?\n",
        "For short, simple functions used once or temporarily.\n",
        "\n",
        "Often used as an inline function for map(), filter(), sorted(), or other higher-order functions.\n",
        "\n",
        "9.  Explain the purpose and usage of the `map()` function in Python?\n",
        "\n",
        " Purpose of map() in Python:\n",
        "\n",
        "The map() function applies a given function to each item of an iterable (like a list) and returns an iterator with the results.\n",
        "\n",
        "Usage:\n",
        "\n",
        "map(function, iterable)\n",
        "\n",
        "10. What is the difference between `map()`, `reduce()`, and `filter()` functions in Python?\n",
        "\n",
        "map(): Applies a function to every item, returns transformed items.\n",
        "\n",
        "filter(): Filters items by a condition, returns only those that pass.\n",
        "\n",
        "reduce(): Combines all items into a single value using a function.\n",
        "\n",
        "\n",
        "11. Using pen & Paper write the internal mechanism for sum operation using  reduce function on this given\n",
        "list:[47,11,42,13];\n",
        "\n",
        "Step\t  Operation\t                          Result\n",
        "1     \tx = 47, y = 11\t                  47 + 11 = 58\n",
        "2\t     x = 58 (previous result), y = 42\t  58 + 42 = 100\n",
        "3\t     x = 100, y = 13\t                  100 + 13 = 113\n",
        "\n",
        "Final output: 113\n",
        "\n",
        "\n",
        "\n",
        "                   _*Practical Quesion and answer*_\n",
        "\n",
        "\n",
        "\n",
        "\n",
        "1. Write a Python function that takes a list of numbers as input and returns the sum of all even numbers in\n",
        "the list.\n",
        "\n",
        "\n"
      ],
      "metadata": {
        "id": "yX5C8I8CHdc1"
      }
    },
    {
      "cell_type": "code",
      "source": [
        "def sum_even_numbers(numbers):\n",
        "    total = 0\n",
        "    for num in numbers:\n",
        "        if num % 2 == 0:\n",
        "            total += num\n",
        "    return total\n"
      ],
      "metadata": {
        "id": "080g6TzlMvEj"
      },
      "execution_count": 1,
      "outputs": []
    },
    {
      "cell_type": "markdown",
      "source": [
        "2.  Create a Python function that accepts a string and returns the reverse of that string."
      ],
      "metadata": {
        "id": "bXCw3iziM0Iv"
      }
    },
    {
      "cell_type": "code",
      "source": [
        "def reverse_string(s):\n",
        "    return s[::-1]\n"
      ],
      "metadata": {
        "id": "9FLm82NvM4j9"
      },
      "execution_count": null,
      "outputs": []
    },
    {
      "cell_type": "markdown",
      "source": [
        "3. Implement a Python function that takes a list of integers and returns a new list containing the squares of\n",
        "each number."
      ],
      "metadata": {
        "id": "ZWsTmsR8M9Yk"
      }
    },
    {
      "cell_type": "code",
      "source": [
        "def square_list(numbers):\n",
        "    return [x**2 for x in numbers]\n"
      ],
      "metadata": {
        "id": "y2dzGtCANIQ1"
      },
      "execution_count": null,
      "outputs": []
    },
    {
      "cell_type": "markdown",
      "source": [
        "4. Write a Python function that checks if a given number is prime or not from 1 to 200."
      ],
      "metadata": {
        "id": "17ubksKrNMfd"
      }
    },
    {
      "cell_type": "code",
      "source": [
        "def is_prime(n):\n",
        "    if n <= 1:\n",
        "        return False\n",
        "    for i in range(2, int(n**0.5) + 1):\n",
        "        if n % i == 0:\n",
        "            return False\n",
        "    return True\n"
      ],
      "metadata": {
        "id": "BzuiWGA0NT50"
      },
      "execution_count": 4,
      "outputs": []
    },
    {
      "cell_type": "markdown",
      "source": [
        "5.  Create an iterator class in Python that generates the Fibonacci sequence up to a specified number of\n",
        "terms?"
      ],
      "metadata": {
        "id": "6ZiOtrGYNag9"
      }
    },
    {
      "cell_type": "code",
      "source": [
        "class Fibonacci:\n",
        "    def __init__(self, n):\n",
        "        self.n = n  # number of terms to generate\n",
        "        self.count = 0\n",
        "        self.a, self.b = 0, 1  # starting values\n",
        "\n",
        "    def __iter__(self):\n",
        "        return self\n",
        "\n",
        "    def __next__(self):\n",
        "        if self.count >= self.n:\n",
        "            raise StopIteration\n",
        "        if self.count == 0:\n",
        "            self.count += 1\n",
        "            return 0\n",
        "        elif self.count == 1:\n",
        "            self.count += 1\n",
        "            return 1\n",
        "        else:\n",
        "            self.a, self.b = self.b, self.a + self.b\n",
        "            self.count += 1\n",
        "            return self.a\n"
      ],
      "metadata": {
        "id": "LJ_L0hxlNfjk"
      },
      "execution_count": 11,
      "outputs": []
    },
    {
      "cell_type": "markdown",
      "source": [
        "6. Write a generator function in Python that yields the powers of 2 up to a given exponent."
      ],
      "metadata": {
        "id": "4eFZTiYqNx6V"
      }
    },
    {
      "cell_type": "code",
      "source": [
        "def powers_of_two(n):\n",
        "    for i in range(n + 1):\n",
        "        yield 2 ** i\n"
      ],
      "metadata": {
        "id": "PpDXso21N5VW"
      },
      "execution_count": 10,
      "outputs": []
    },
    {
      "cell_type": "markdown",
      "source": [
        "7. Implement a generator function that reads a file line by line and yields each line as a string?"
      ],
      "metadata": {
        "id": "Y_kWutWlN9G8"
      }
    },
    {
      "cell_type": "code",
      "source": [
        "def read_file_line_by_line(file_path):\n",
        "    with open(file_path, 'r') as file:\n",
        "        for line in file:\n",
        "            yield line.rstrip('\\n')\n"
      ],
      "metadata": {
        "id": "ov-xpVkTOF2L"
      },
      "execution_count": 9,
      "outputs": []
    },
    {
      "cell_type": "markdown",
      "source": [
        "8. Use a lambda function in Python to sort a list of tuples based on the second element of each tuple?"
      ],
      "metadata": {
        "id": "yKHH7YHjOJ-r"
      }
    },
    {
      "cell_type": "code",
      "source": [
        "tuples = [(1, 3), (4, 1), (5, 2)]\n",
        "sorted_list = sorted(tuples, key=lambda x: x[1])\n",
        "print(sorted_list)\n"
      ],
      "metadata": {
        "colab": {
          "base_uri": "https://localhost:8080/"
        },
        "id": "Yb5jteuQOOdj",
        "outputId": "fb78509f-f5b6-414d-ec72-e4b43ad15741"
      },
      "execution_count": 8,
      "outputs": [
        {
          "output_type": "stream",
          "name": "stdout",
          "text": [
            "[(4, 1), (5, 2), (1, 3)]\n"
          ]
        }
      ]
    },
    {
      "cell_type": "markdown",
      "source": [
        "9. Write a Python program that uses `map()` to convert a list of temperatures from Celsius to Fahrenheit."
      ],
      "metadata": {
        "id": "OerAklwBOdfM"
      }
    },
    {
      "cell_type": "code",
      "source": [
        "def c_to_f(c):\n",
        "    return (c * 9/5) + 32\n",
        "\n",
        "celsius_temps = [0, 20, 30, 37, 100]\n",
        "fahrenheit_temps = list(map(c_to_f, celsius_temps))\n",
        "\n",
        "print(fahrenheit_temps)\n"
      ],
      "metadata": {
        "colab": {
          "base_uri": "https://localhost:8080/"
        },
        "id": "K2GaN8WmOfaI",
        "outputId": "2f7e9003-b85d-4fea-c0bd-0ab1c9dfd310"
      },
      "execution_count": 12,
      "outputs": [
        {
          "output_type": "stream",
          "name": "stdout",
          "text": [
            "[32.0, 68.0, 86.0, 98.6, 212.0]\n"
          ]
        }
      ]
    },
    {
      "cell_type": "markdown",
      "source": [
        "10. Create a Python program that uses `filter()` to remove all the vowels from a given string."
      ],
      "metadata": {
        "id": "XFxd_HBjOkoD"
      }
    },
    {
      "cell_type": "code",
      "source": [
        "def is_not_vowel(char):\n",
        "    return char.lower() not in 'aeiou'\n",
        "\n",
        "input_str = \"Hello, Avinash!\"\n",
        "filtered_chars = filter(is_not_vowel, input_str)\n",
        "result = ''.join(filtered_chars)\n",
        "\n",
        "print(result)\n"
      ],
      "metadata": {
        "colab": {
          "base_uri": "https://localhost:8080/"
        },
        "id": "P_ATfACSOna8",
        "outputId": "6c134227-285a-44b6-99be-b5f557887211"
      },
      "execution_count": 13,
      "outputs": [
        {
          "output_type": "stream",
          "name": "stdout",
          "text": [
            "Hll, vnsh!\n"
          ]
        }
      ]
    },
    {
      "cell_type": "markdown",
      "source": [
        "11.  Imagine an accounting routine used in a book shop. It works on a list with sublists, which look like this:"
      ],
      "metadata": {
        "id": "RSZ8NjPjOwuz"
      }
    },
    {
      "cell_type": "code",
      "source": [
        "\n",
        "# List of book orders: [Order Number, Book Title and Author, Quantity, Price per Item]\n",
        "orders = [\n",
        "    [34587, \"Learning Python, Mark Lutz\", 4, 40.95],\n",
        "    [98762, \"Programming Python, Mark Lutz\", 5, 56.80],\n",
        "    [77226, \"Head First Python, Paul Barry\", 3, 32.95],\n",
        "    [88112, \"Einführung in Python3, Bernd Klein\", 3, 24.99]\n",
        "]\n",
        "\n",
        "# Compute the invoice totals with a rule:\n",
        "# If the total (Quantity * Price) is less than $100, add a $10 handling charge.\n",
        "invoice_totals = [\n",
        "    (order[0], round(order[2] * order[3] + (10 if order[2] * order[3] < 100 else 0), 2))\n",
        "    for order in orders\n",
        "]\n",
        "\n",
        "# Print the results\n",
        "for invoice in invoice_totals:\n",
        "    print(f\"Order Number: {invoice[0]}, Total Invoice: ${invoice[1]}\")\n"
      ],
      "metadata": {
        "colab": {
          "base_uri": "https://localhost:8080/"
        },
        "id": "XJ-HerrQPoTt",
        "outputId": "543efd13-f400-46fe-c36e-c608bc610bb5"
      },
      "execution_count": 14,
      "outputs": [
        {
          "output_type": "stream",
          "name": "stdout",
          "text": [
            "Order Number: 34587, Total Invoice: $163.8\n",
            "Order Number: 98762, Total Invoice: $284.0\n",
            "Order Number: 77226, Total Invoice: $108.85\n",
            "Order Number: 88112, Total Invoice: $84.97\n"
          ]
        }
      ]
    }
  ]
}